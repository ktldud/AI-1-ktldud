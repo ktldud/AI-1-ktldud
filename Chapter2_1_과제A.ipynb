{
  "cells": [
    {
      "cell_type": "markdown",
      "metadata": {
        "id": "view-in-github",
        "colab_type": "text"
      },
      "source": [
        "<a href=\"https://colab.research.google.com/github/ktldud/AI-1-ktldud/blob/main/Chapter2_1_%EA%B3%BC%EC%A0%9CA.ipynb\" target=\"_parent\"><img src=\"https://colab.research.google.com/assets/colab-badge.svg\" alt=\"Open In Colab\"/></a>"
      ]
    },
    {
      "cell_type": "markdown",
      "metadata": {
        "id": "ymxatB5WYxlL"
      },
      "source": [
        "# Transformer 실습\n",
        "\n",
        "이번 실습에서는 감정 분석 task에 RNN 대신 Transformer를 구현하여 적용해 볼 것입니다.\n",
        "Library import나 dataloader 생성은 RNN 실습 때와 똑같기 때문에 설명은 넘어가도록 하겠습니다."
      ]
    },
    {
      "cell_type": "code",
      "execution_count": 74,
      "metadata": {
        "id": "1X7RM2du1zcr",
        "outputId": "dd2dc942-5864-48c2-b9fa-8c84aed78732",
        "colab": {
          "base_uri": "https://localhost:8080/"
        }
      },
      "outputs": [
        {
          "output_type": "stream",
          "name": "stdout",
          "text": [
            "Requirement already satisfied: datasets in /usr/local/lib/python3.10/dist-packages (3.0.1)\n",
            "Requirement already satisfied: filelock in /usr/local/lib/python3.10/dist-packages (from datasets) (3.16.1)\n",
            "Requirement already satisfied: numpy>=1.17 in /usr/local/lib/python3.10/dist-packages (from datasets) (1.26.4)\n",
            "Requirement already satisfied: pyarrow>=15.0.0 in /usr/local/lib/python3.10/dist-packages (from datasets) (17.0.0)\n",
            "Requirement already satisfied: dill<0.3.9,>=0.3.0 in /usr/local/lib/python3.10/dist-packages (from datasets) (0.3.8)\n",
            "Requirement already satisfied: pandas in /usr/local/lib/python3.10/dist-packages (from datasets) (2.1.4)\n",
            "Requirement already satisfied: requests>=2.32.2 in /usr/local/lib/python3.10/dist-packages (from datasets) (2.32.3)\n",
            "Requirement already satisfied: tqdm>=4.66.3 in /usr/local/lib/python3.10/dist-packages (from datasets) (4.66.5)\n",
            "Requirement already satisfied: xxhash in /usr/local/lib/python3.10/dist-packages (from datasets) (3.5.0)\n",
            "Requirement already satisfied: multiprocess in /usr/local/lib/python3.10/dist-packages (from datasets) (0.70.16)\n",
            "Requirement already satisfied: fsspec<=2024.6.1,>=2023.1.0 in /usr/local/lib/python3.10/dist-packages (from fsspec[http]<=2024.6.1,>=2023.1.0->datasets) (2024.6.1)\n",
            "Requirement already satisfied: aiohttp in /usr/local/lib/python3.10/dist-packages (from datasets) (3.10.5)\n",
            "Requirement already satisfied: huggingface-hub>=0.22.0 in /usr/local/lib/python3.10/dist-packages (from datasets) (0.24.7)\n",
            "Requirement already satisfied: packaging in /usr/local/lib/python3.10/dist-packages (from datasets) (24.1)\n",
            "Requirement already satisfied: pyyaml>=5.1 in /usr/local/lib/python3.10/dist-packages (from datasets) (6.0.2)\n",
            "Requirement already satisfied: aiohappyeyeballs>=2.3.0 in /usr/local/lib/python3.10/dist-packages (from aiohttp->datasets) (2.4.0)\n",
            "Requirement already satisfied: aiosignal>=1.1.2 in /usr/local/lib/python3.10/dist-packages (from aiohttp->datasets) (1.3.1)\n",
            "Requirement already satisfied: attrs>=17.3.0 in /usr/local/lib/python3.10/dist-packages (from aiohttp->datasets) (24.2.0)\n",
            "Requirement already satisfied: frozenlist>=1.1.1 in /usr/local/lib/python3.10/dist-packages (from aiohttp->datasets) (1.4.1)\n",
            "Requirement already satisfied: multidict<7.0,>=4.5 in /usr/local/lib/python3.10/dist-packages (from aiohttp->datasets) (6.1.0)\n",
            "Requirement already satisfied: yarl<2.0,>=1.0 in /usr/local/lib/python3.10/dist-packages (from aiohttp->datasets) (1.11.1)\n",
            "Requirement already satisfied: async-timeout<5.0,>=4.0 in /usr/local/lib/python3.10/dist-packages (from aiohttp->datasets) (4.0.3)\n",
            "Requirement already satisfied: typing-extensions>=3.7.4.3 in /usr/local/lib/python3.10/dist-packages (from huggingface-hub>=0.22.0->datasets) (4.12.2)\n",
            "Requirement already satisfied: charset-normalizer<4,>=2 in /usr/local/lib/python3.10/dist-packages (from requests>=2.32.2->datasets) (3.3.2)\n",
            "Requirement already satisfied: idna<4,>=2.5 in /usr/local/lib/python3.10/dist-packages (from requests>=2.32.2->datasets) (3.10)\n",
            "Requirement already satisfied: urllib3<3,>=1.21.1 in /usr/local/lib/python3.10/dist-packages (from requests>=2.32.2->datasets) (2.2.3)\n",
            "Requirement already satisfied: certifi>=2017.4.17 in /usr/local/lib/python3.10/dist-packages (from requests>=2.32.2->datasets) (2024.8.30)\n",
            "Requirement already satisfied: python-dateutil>=2.8.2 in /usr/local/lib/python3.10/dist-packages (from pandas->datasets) (2.8.2)\n",
            "Requirement already satisfied: pytz>=2020.1 in /usr/local/lib/python3.10/dist-packages (from pandas->datasets) (2024.2)\n",
            "Requirement already satisfied: tzdata>=2022.1 in /usr/local/lib/python3.10/dist-packages (from pandas->datasets) (2024.1)\n",
            "Requirement already satisfied: six>=1.5 in /usr/local/lib/python3.10/dist-packages (from python-dateutil>=2.8.2->pandas->datasets) (1.16.0)\n"
          ]
        }
      ],
      "source": [
        "!pip install datasets"
      ]
    },
    {
      "cell_type": "code",
      "source": [
        "pip install sacremoses\n"
      ],
      "metadata": {
        "colab": {
          "base_uri": "https://localhost:8080/"
        },
        "id": "MTXF-l7x-YGv",
        "outputId": "d14debb7-384e-48fe-e086-3c3557e47713"
      },
      "execution_count": 75,
      "outputs": [
        {
          "output_type": "stream",
          "name": "stdout",
          "text": [
            "Requirement already satisfied: sacremoses in /usr/local/lib/python3.10/dist-packages (0.1.1)\n",
            "Requirement already satisfied: regex in /usr/local/lib/python3.10/dist-packages (from sacremoses) (2024.9.11)\n",
            "Requirement already satisfied: click in /usr/local/lib/python3.10/dist-packages (from sacremoses) (8.1.7)\n",
            "Requirement already satisfied: joblib in /usr/local/lib/python3.10/dist-packages (from sacremoses) (1.4.2)\n",
            "Requirement already satisfied: tqdm in /usr/local/lib/python3.10/dist-packages (from sacremoses) (4.66.5)\n"
          ]
        }
      ]
    },
    {
      "cell_type": "code",
      "execution_count": 76,
      "metadata": {
        "id": "HOdhoBVA1zcu",
        "colab": {
          "base_uri": "https://localhost:8080/"
        },
        "outputId": "28ba2764-ba82-4c0a-862c-1388a39ede1b"
      },
      "outputs": [
        {
          "output_type": "stream",
          "name": "stderr",
          "text": [
            "Using cache found in /root/.cache/torch/hub/huggingface_pytorch-transformers_main\n",
            "/usr/local/lib/python3.10/dist-packages/transformers/tokenization_utils_base.py:1601: FutureWarning: `clean_up_tokenization_spaces` was not set. It will be set to `True` by default. This behavior will be depracted in transformers v4.45, and will be then set to `False` by default. For more details check this issue: https://github.com/huggingface/transformers/issues/31884\n",
            "  warnings.warn(\n"
          ]
        }
      ],
      "source": [
        "import torch\n",
        "from datasets import load_dataset\n",
        "from torch.utils.data import DataLoader\n",
        "from transformers import BertTokenizerFast\n",
        "from tokenizers import (\n",
        "    decoders,\n",
        "    models,\n",
        "    normalizers,\n",
        "    pre_tokenizers,\n",
        "    processors,\n",
        "    trainers,\n",
        "    Tokenizer,\n",
        ")\n",
        "\n",
        "\n",
        "ds = load_dataset(\"stanfordnlp/imdb\")\n",
        "tokenizer = torch.hub.load('huggingface/pytorch-transformers', 'tokenizer', 'bert-base-uncased')\n",
        "\n",
        "\n",
        "def collate_fn(batch):\n",
        "  max_len = 400\n",
        "  texts, labels = [], []\n",
        "  for row in batch:\n",
        "    labels.append(row['label'])\n",
        "    texts.append(row['text'])\n",
        "\n",
        "  texts = torch.LongTensor(tokenizer(texts, padding=True, truncation=True, max_length=max_len).input_ids)\n",
        "  labels = torch.LongTensor(labels)\n",
        "\n",
        "  return texts, labels\n",
        "\n",
        "\n",
        "train_loader = DataLoader(\n",
        "    ds['train'], batch_size=64, shuffle=True, collate_fn=collate_fn\n",
        ")\n",
        "test_loader = DataLoader(\n",
        "    ds['test'], batch_size=64, shuffle=False, collate_fn=collate_fn\n",
        ")"
      ]
    },
    {
      "cell_type": "code",
      "source": [
        "from torch import nn\n",
        "from math import sqrt\n",
        "\n",
        "\n",
        "class SelfAttention(nn.Module):\n",
        "    def __init__(self, input_dim, d_model):\n",
        "        super().__init__()\n",
        "\n",
        "        self.input_dim = input_dim\n",
        "        self.d_model = d_model\n",
        "\n",
        "        self.wq = nn.Linear(input_dim, d_model)\n",
        "        self.wk = nn.Linear(input_dim, d_model)\n",
        "        self.wv = nn.Linear(input_dim, d_model)\n",
        "        self.dense = nn.Linear(d_model, d_model)\n",
        "\n",
        "        self.softmax = nn.Softmax(dim=-1)\n",
        "\n",
        "    def forward(self, x, mask):\n",
        "        q, k, v = self.wq(x), self.wk(x), self.wv(x)\n",
        "        score = torch.matmul(\n",
        "            q, k.transpose(-1, -2)\n",
        "        )  # (B, S, D) * (B, D, S) = (B, S, S)\n",
        "        score = score / sqrt(self.d_model)\n",
        "\n",
        "        if mask is not None:\n",
        "            score = score + (mask * -1e9)\n",
        "\n",
        "        score = self.softmax(score)\n",
        "        result = torch.matmul(score, v)\n",
        "        result = self.dense(result)\n",
        "\n",
        "        return result"
      ],
      "metadata": {
        "id": "6fFInKmfWf5b"
      },
      "execution_count": 100,
      "outputs": []
    },
    {
      "cell_type": "code",
      "execution_count": 110,
      "metadata": {
        "id": "MBlMVMZcRAxv"
      },
      "outputs": [],
      "source": [
        "class MultiHeadAttention(nn.Module):\n",
        "\n",
        "    def __init__(\n",
        "        self,\n",
        "        input_dim,\n",
        "        d_model,\n",
        "        n_heads,\n",
        "    ):\n",
        "        super().__init__()\n",
        "\n",
        "        self.input_dim = input_dim\n",
        "        self.d_model = d_model\n",
        "        self.n_heads = n_heads\n",
        "\n",
        "        assert (\n",
        "            d_model % n_heads == 0\n",
        "        ), f\"d_model ({d_model}) must be a multiple of n_heads ({n_heads})\"\n",
        "\n",
        "        self.d_prime = self.d_model // self.n_heads\n",
        "\n",
        "        self.wqkvs = nn.ModuleList(\n",
        "            [\n",
        "                nn.ModuleDict(\n",
        "                    {\n",
        "                        \"wq\": nn.Linear(input_dim, self.d_prime),\n",
        "                        \"wk\": nn.Linear(input_dim, self.d_prime),\n",
        "                        \"wv\": nn.Linear(input_dim, self.d_prime),\n",
        "                    }\n",
        "                )\n",
        "                for _ in range(self.n_heads)\n",
        "            ]\n",
        "        )\n",
        "\n",
        "        self.dense = nn.Linear(d_model, d_model)\n",
        "\n",
        "        self.softmax = nn.Softmax(dim=-1)\n",
        "\n",
        "    def forward(self, x, mask):\n",
        "        results = []\n",
        "        for wqkv in self.wqkvs:\n",
        "            q, k, v = wqkv[\"wq\"](x), wqkv[\"wk\"](x), wqkv[\"wv\"](x)\n",
        "            score = torch.matmul(\n",
        "                q,\n",
        "                k.transpose(-1, -2),\n",
        "            )  # (B, S, D') * (B, D', S) = (B, S, S)\n",
        "            score = score / sqrt(self.d_prime)\n",
        "\n",
        "            if mask is not None:\n",
        "                score = score + (mask * -1e9)\n",
        "\n",
        "            score = self.softmax(score)\n",
        "            result = torch.matmul(\n",
        "                score,  # (B, S, S)\n",
        "                v,  # (B, S, D')\n",
        "            )  # (B, S, D')\n",
        "            results.append(result)\n",
        "        results = torch.cat(results, dim=-1)  # (B, S, D' * n_heads)\n",
        "        output = self.dense(results)\n",
        "        return output"
      ]
    },
    {
      "cell_type": "code",
      "source": [
        "class TransformerLayer(nn.Module):\n",
        "\n",
        "    def __init__(self, input_dim, d_model, dff, n_heads, dropout_prob=0.3):\n",
        "        super().__init__()\n",
        "\n",
        "        self.input_dim = input_dim\n",
        "        self.d_model = d_model\n",
        "        self.dff = dff\n",
        "\n",
        "        self.mha = MultiHeadAttention(input_dim, d_model, n_heads)\n",
        "        self.ffn = nn.Sequential(\n",
        "            nn.Linear(d_model, dff), nn.ReLU(), nn.Linear(dff, d_model)\n",
        "        )\n",
        "        self.dropout = nn.Dropout(dropout_prob)\n",
        "        self.layer_norm_mha = nn.LayerNorm(normalized_shape=d_model)\n",
        "        self.layer_norm_ffn = nn.LayerNorm(normalized_shape=d_model)\n",
        "\n",
        "    def forward(self, x, mask):\n",
        "        x1 = self.mha(x, mask)\n",
        "        x1 = self.dropout(x1)\n",
        "        x1 = self.layer_norm_mha(x + x1)\n",
        "\n",
        "        x2 = self.ffn(x1)\n",
        "        x2 = self.dropout(x2)\n",
        "        x2 = self.layer_norm_ffn(x1 + x2)\n",
        "\n",
        "        return x2\n"
      ],
      "metadata": {
        "id": "3jXWKAKOQjn4"
      },
      "execution_count": 111,
      "outputs": []
    },
    {
      "cell_type": "markdown",
      "metadata": {
        "id": "J3VYrqTJagS1"
      },
      "source": [
        "## Positional encoding\n",
        "\n",
        "이번에는 positional encoding을 구현합니다. Positional encoding의 식은 다음과 같습니다:\n",
        "$$\n",
        "\\begin{align*} PE_{pos, 2i} &= \\sin\\left( \\frac{pos}{10000^{2i/D}} \\right), \\\\ PE_{pos, 2i+1} &= \\cos\\left( \\frac{pos}{10000^{2i/D}} \\right).\\end{align*}\n",
        "$$\n",
        "\n",
        "이를 Numpy로 구현하여 PyTorch tensor로 변환한 모습은 다음과 같습니다:"
      ]
    },
    {
      "cell_type": "code",
      "execution_count": 112,
      "metadata": {
        "colab": {
          "base_uri": "https://localhost:8080/"
        },
        "id": "Uf_jMQWDUR79",
        "outputId": "5efcc68e-ff7d-44a0-a9ec-263ca7578ee1"
      },
      "outputs": [
        {
          "output_type": "stream",
          "name": "stdout",
          "text": [
            "torch.Size([1, 400, 256])\n"
          ]
        }
      ],
      "source": [
        "import numpy as np\n",
        "\n",
        "\n",
        "def get_angles(pos, i, d_model):\n",
        "    angle_rates = 1 / np.power(10000, (2 * (i // 2)) / np.float32(d_model))\n",
        "    return pos * angle_rates\n",
        "\n",
        "def positional_encoding(position, d_model):\n",
        "    angle_rads = get_angles(np.arange(position)[:, None], np.arange(d_model)[None, :], d_model)\n",
        "    angle_rads[:, 0::2] = np.sin(angle_rads[:, 0::2])\n",
        "    angle_rads[:, 1::2] = np.cos(angle_rads[:, 1::2])\n",
        "    pos_encoding = angle_rads[None, ...]\n",
        "\n",
        "    return torch.FloatTensor(pos_encoding)\n",
        "\n",
        "\n",
        "max_len = 400\n",
        "print(positional_encoding(max_len, 256).shape)"
      ]
    },
    {
      "cell_type": "code",
      "execution_count": 113,
      "metadata": {
        "id": "8MaiCGh8TsDH"
      },
      "outputs": [],
      "source": [
        "class TextClassifier(nn.Module):\n",
        "\n",
        "    def __init__(self, vocab_size, d_model, n_layers, dff, n_heads):\n",
        "        super().__init__()\n",
        "\n",
        "        self.vocab_size = vocab_size\n",
        "        self.d_model = d_model\n",
        "        self.n_layers = n_layers\n",
        "        self.dff = dff\n",
        "\n",
        "        self.embedding = nn.Embedding(vocab_size, d_model)\n",
        "        self.pos_encoding = nn.parameter.Parameter(\n",
        "            positional_encoding(max_len, d_model), requires_grad=False\n",
        "        )\n",
        "        self.layers = nn.ModuleList(\n",
        "            [TransformerLayer(d_model, d_model, dff, n_heads) for _ in range(n_layers)]\n",
        "        )\n",
        "        self.classification = nn.Linear(d_model, 1)\n",
        "\n",
        "    def forward(self, x):\n",
        "        mask = x == tokenizer.pad_token_id\n",
        "        mask = mask[:, None, :]\n",
        "        seq_len = x.shape[1]\n",
        "\n",
        "        x = self.embedding(x)\n",
        "        x = x * sqrt(self.d_model)\n",
        "        x = x + self.pos_encoding[:, :seq_len]\n",
        "\n",
        "        for layer in self.layers:\n",
        "            x = layer(x, mask)\n",
        "\n",
        "        x = x[:, 0]\n",
        "        x = self.classification(x)\n",
        "\n",
        "        return x\n",
        "\n",
        "\n",
        "model = TextClassifier(\n",
        "    len(tokenizer),\n",
        "    n_layers=5,\n",
        "    dff=32,\n",
        "    d_model=32,\n",
        "    n_heads=4,\n",
        ")"
      ]
    },
    {
      "cell_type": "markdown",
      "metadata": {
        "id": "QDq05OlAb2lB"
      },
      "source": [
        "## 학습\n",
        "\n",
        "학습하는 코드는 기존 실습들과 동일하기 때문에 마지막 결과만 살펴보도록 하겠습니다."
      ]
    },
    {
      "cell_type": "code",
      "execution_count": 114,
      "metadata": {
        "id": "YHVVsWBPQmnv"
      },
      "outputs": [],
      "source": [
        "from torch.optim import Adam\n",
        "\n",
        "lr = 0.001\n",
        "model = model.to('cuda')\n",
        "loss_fn = nn.BCEWithLogitsLoss()\n",
        "\n",
        "optimizer = Adam(model.parameters(), lr=lr)"
      ]
    },
    {
      "cell_type": "code",
      "execution_count": 115,
      "metadata": {
        "id": "r88BALxO1zc1"
      },
      "outputs": [],
      "source": [
        "def accuracy(model, dataloader):\n",
        "    cnt = 0\n",
        "    acc = 0\n",
        "\n",
        "    for data in dataloader:\n",
        "        inputs, labels = data\n",
        "        inputs, labels = inputs.to('cuda'), labels.to('cuda')\n",
        "\n",
        "        preds = model(inputs)\n",
        "        preds = (preds > 0).long()[..., 0]  # 로짓일 경우\n",
        "        # preds = (torch.sigmoid(preds) > 0.5).long()[..., 0]  # 확률 출력일 경우\n",
        "\n",
        "        cnt += labels.shape[0]\n",
        "        acc += (labels == preds).sum().item()\n",
        "\n",
        "    return acc / cnt\n"
      ]
    },
    {
      "cell_type": "code",
      "execution_count": 116,
      "metadata": {
        "colab": {
          "base_uri": "https://localhost:8080/"
        },
        "id": "al_b56TYRILq",
        "outputId": "23c907fc-58ac-447c-a71a-acf82e3e33d3"
      },
      "outputs": [
        {
          "output_type": "stream",
          "name": "stdout",
          "text": [
            "Epoch   0 | Train Loss: 216.03940320014954\n",
            "=========> Train acc: 0.822 | Test acc: 0.789\n",
            "Epoch   1 | Train Loss: 148.91142337024212\n",
            "=========> Train acc: 0.879 | Test acc: 0.822\n",
            "Epoch   2 | Train Loss: 120.28375335037708\n",
            "=========> Train acc: 0.907 | Test acc: 0.832\n",
            "Epoch   3 | Train Loss: 98.30352552235126\n",
            "=========> Train acc: 0.933 | Test acc: 0.834\n",
            "Epoch   4 | Train Loss: 77.29225611686707\n",
            "=========> Train acc: 0.945 | Test acc: 0.819\n",
            "Epoch   5 | Train Loss: 59.42878085374832\n",
            "=========> Train acc: 0.969 | Test acc: 0.825\n",
            "Epoch   6 | Train Loss: 45.21806052606553\n",
            "=========> Train acc: 0.976 | Test acc: 0.819\n",
            "Epoch   7 | Train Loss: 35.76661195605993\n",
            "=========> Train acc: 0.986 | Test acc: 0.822\n",
            "Epoch   8 | Train Loss: 30.827936668880284\n",
            "=========> Train acc: 0.986 | Test acc: 0.820\n",
            "Epoch   9 | Train Loss: 24.556845027022064\n",
            "=========> Train acc: 0.990 | Test acc: 0.824\n",
            "Epoch  10 | Train Loss: 21.593633562792093\n",
            "=========> Train acc: 0.992 | Test acc: 0.824\n",
            "Epoch  11 | Train Loss: 19.947684588842094\n",
            "=========> Train acc: 0.993 | Test acc: 0.825\n",
            "Epoch  12 | Train Loss: 18.860585012938827\n",
            "=========> Train acc: 0.994 | Test acc: 0.823\n",
            "Epoch  13 | Train Loss: 15.965383396018296\n",
            "=========> Train acc: 0.990 | Test acc: 0.816\n",
            "Epoch  14 | Train Loss: 17.193625897634774\n",
            "=========> Train acc: 0.994 | Test acc: 0.823\n",
            "Epoch  15 | Train Loss: 15.497269954532385\n",
            "=========> Train acc: 0.992 | Test acc: 0.821\n",
            "Epoch  16 | Train Loss: 15.233356156386435\n",
            "=========> Train acc: 0.995 | Test acc: 0.821\n",
            "Epoch  17 | Train Loss: 14.603013001382351\n",
            "=========> Train acc: 0.995 | Test acc: 0.821\n",
            "Epoch  18 | Train Loss: 13.146664925618097\n",
            "=========> Train acc: 0.995 | Test acc: 0.823\n",
            "Epoch  19 | Train Loss: 14.155213425634429\n",
            "=========> Train acc: 0.995 | Test acc: 0.822\n",
            "Epoch  20 | Train Loss: 13.048466647276655\n",
            "=========> Train acc: 0.995 | Test acc: 0.819\n",
            "Epoch  21 | Train Loss: 11.882441127905622\n",
            "=========> Train acc: 0.996 | Test acc: 0.822\n",
            "Epoch  22 | Train Loss: 12.47113403188996\n",
            "=========> Train acc: 0.996 | Test acc: 0.820\n",
            "Epoch  23 | Train Loss: 10.572238379623741\n",
            "=========> Train acc: 0.996 | Test acc: 0.825\n",
            "Epoch  24 | Train Loss: 12.784840816864744\n",
            "=========> Train acc: 0.994 | Test acc: 0.824\n",
            "Epoch  25 | Train Loss: 10.901576252072118\n",
            "=========> Train acc: 0.996 | Test acc: 0.823\n",
            "Epoch  26 | Train Loss: 11.468621243257076\n",
            "=========> Train acc: 0.997 | Test acc: 0.820\n",
            "Epoch  27 | Train Loss: 10.577316690934822\n",
            "=========> Train acc: 0.996 | Test acc: 0.823\n",
            "Epoch  28 | Train Loss: 10.906334040686488\n",
            "=========> Train acc: 0.997 | Test acc: 0.818\n",
            "Epoch  29 | Train Loss: 10.8095460946206\n",
            "=========> Train acc: 0.997 | Test acc: 0.824\n",
            "Epoch  30 | Train Loss: 9.644284015055746\n",
            "=========> Train acc: 0.997 | Test acc: 0.821\n",
            "Epoch  31 | Train Loss: 8.875864574802108\n",
            "=========> Train acc: 0.997 | Test acc: 0.821\n",
            "Epoch  32 | Train Loss: 10.305649943184108\n",
            "=========> Train acc: 0.996 | Test acc: 0.818\n",
            "Epoch  33 | Train Loss: 11.161074542207643\n",
            "=========> Train acc: 0.997 | Test acc: 0.820\n",
            "Epoch  34 | Train Loss: 8.830955603625625\n",
            "=========> Train acc: 0.997 | Test acc: 0.818\n",
            "Epoch  35 | Train Loss: 9.654611655976623\n",
            "=========> Train acc: 0.996 | Test acc: 0.819\n",
            "Epoch  36 | Train Loss: 9.71275799558498\n",
            "=========> Train acc: 0.996 | Test acc: 0.817\n",
            "Epoch  37 | Train Loss: 10.251680921996012\n",
            "=========> Train acc: 0.995 | Test acc: 0.818\n",
            "Epoch  38 | Train Loss: 9.174995668465272\n",
            "=========> Train acc: 0.995 | Test acc: 0.820\n",
            "Epoch  39 | Train Loss: 9.76343266107142\n",
            "=========> Train acc: 0.996 | Test acc: 0.816\n",
            "Epoch  40 | Train Loss: 9.78526559472084\n",
            "=========> Train acc: 0.996 | Test acc: 0.819\n",
            "Epoch  41 | Train Loss: 9.173427989939228\n",
            "=========> Train acc: 0.997 | Test acc: 0.820\n",
            "Epoch  42 | Train Loss: 8.649783805361949\n",
            "=========> Train acc: 0.997 | Test acc: 0.819\n",
            "Epoch  43 | Train Loss: 8.212055659503676\n",
            "=========> Train acc: 0.995 | Test acc: 0.814\n",
            "Epoch  44 | Train Loss: 8.875587011687458\n",
            "=========> Train acc: 0.997 | Test acc: 0.819\n",
            "Epoch  45 | Train Loss: 8.485210037324578\n",
            "=========> Train acc: 0.996 | Test acc: 0.819\n",
            "Epoch  46 | Train Loss: 9.11544989736285\n",
            "=========> Train acc: 0.996 | Test acc: 0.818\n",
            "Epoch  47 | Train Loss: 8.262969760457054\n",
            "=========> Train acc: 0.994 | Test acc: 0.821\n",
            "Epoch  48 | Train Loss: 9.183920906623825\n",
            "=========> Train acc: 0.995 | Test acc: 0.812\n",
            "Epoch  49 | Train Loss: 7.345990194240585\n",
            "=========> Train acc: 0.997 | Test acc: 0.820\n"
          ]
        }
      ],
      "source": [
        "n_epochs = 50\n",
        "\n",
        "for epoch in range(n_epochs):\n",
        "  total_loss = 0.\n",
        "  model.train()\n",
        "  for data in train_loader:\n",
        "    model.zero_grad()\n",
        "    inputs, labels = data\n",
        "    inputs, labels = inputs.to('cuda'), labels.to('cuda').float()\n",
        "\n",
        "    preds = model(inputs)[..., 0]\n",
        "    loss = loss_fn(preds, labels)\n",
        "    loss.backward()\n",
        "    optimizer.step()\n",
        "\n",
        "    total_loss += loss.item()\n",
        "\n",
        "  print(f\"Epoch {epoch:3d} | Train Loss: {total_loss}\")\n",
        "\n",
        "  with torch.no_grad():\n",
        "    model.eval()\n",
        "    train_acc = accuracy(model, train_loader)\n",
        "    test_acc = accuracy(model, test_loader)\n",
        "    print(f\"=========> Train acc: {train_acc:.3f} | Test acc: {test_acc:.3f}\")"
      ]
    },
    {
      "cell_type": "markdown",
      "metadata": {
        "id": "WqZays2yb8Ja"
      },
      "source": [
        "학습이 안정적으로 진행되며 RNN보다 빨리 수렴하는 것을 확인할 수 있습니다.\n",
        "하지만 test 정확도가 RNN보다 낮은 것을 보았을 때, overfitting에 취약하다는 것을 알 수 있습니다."
      ]
    },
    {
      "cell_type": "code",
      "source": [],
      "metadata": {
        "id": "6H7Hb0JxSwBJ"
      },
      "execution_count": null,
      "outputs": []
    }
  ],
  "metadata": {
    "accelerator": "GPU",
    "colab": {
      "gpuType": "T4",
      "provenance": [],
      "machine_shape": "hm",
      "include_colab_link": true
    },
    "kernelspec": {
      "display_name": "Python 3",
      "name": "python3"
    },
    "language_info": {
      "codemirror_mode": {
        "name": "ipython",
        "version": 3
      },
      "file_extension": ".py",
      "mimetype": "text/x-python",
      "name": "python",
      "nbconvert_exporter": "python",
      "pygments_lexer": "ipython3",
      "version": "3.10.14"
    }
  },
  "nbformat": 4,
  "nbformat_minor": 0
}